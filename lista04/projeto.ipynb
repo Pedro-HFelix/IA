{
 "cells": [
  {
   "cell_type": "code",
   "execution_count": null,
   "metadata": {},
   "outputs": [
    {
     "name": "stderr",
     "output_type": "stream",
     "text": [
      "625.15s - pydevd: Sending message related to process being replaced timed-out after 5 seconds\n"
     ]
    },
    {
     "name": "stdout",
     "output_type": "stream",
     "text": [
      "zsh:1: command not found: pip\n"
     ]
    }
   ],
   "source": [
    "%pip install git+https://github.com/Pedro-HFelix/IA.git"
   ]
  },
  {
   "cell_type": "code",
   "execution_count": 17,
   "metadata": {},
   "outputs": [],
   "source": [
    "from trees_classifiers.ID3 import DecisionTreeID3\n",
    "from trees_classifiers.C45 import DecisionTreeC45\n",
    "from trees_classifiers.CART import DecisionTreeCART\n",
    "import pandas as pd"
   ]
  },
  {
   "cell_type": "code",
   "execution_count": 20,
   "metadata": {},
   "outputs": [
    {
     "name": "stdout",
     "output_type": "stream",
     "text": [
      "--- Algoritmo CART (com dados diretos do CSV) ---\n",
      "Árvore Gerada:\n",
      "{'outlook': {'== overcast': 'yes', '!= overcast': {'humidity': {'== high': {'outlook': {'== sunny': 'no', '!= sunny': {'windy': {'<= 0.5': 'yes', '> 0.5': 'no'}}}}, '!= high': {'windy': {'<= 0.5': 'yes', '> 0.5': {'outlook': {'== rainy': 'no', '!= rainy': 'yes'}}}}}}}}\n",
      "------------------------------\n",
      "--- Exemplo de Previsão (CART) ---\n"
     ]
    },
    {
     "name": "stderr",
     "output_type": "stream",
     "text": [
      "/Library/Frameworks/Python.framework/Versions/3.13/lib/python3.13/site-packages/trees_classifiers/CART.py:38: FutureWarning: A value is trying to be set on a copy of a DataFrame or Series through chained assignment using an inplace method.\n",
      "The behavior will change in pandas 3.0. This inplace method will never work because the intermediate object on which we are setting values always behaves as a copy.\n",
      "\n",
      "For example, when doing 'df[col].method(value, inplace=True)', try using 'df.method({col: value}, inplace=True)' or df[col] = df[col].method(value) instead, to perform the operation inplace on the original object.\n",
      "\n",
      "\n",
      "  data[feature].fillna(mode_val, inplace=True)\n",
      "/Library/Frameworks/Python.framework/Versions/3.13/lib/python3.13/site-packages/trees_classifiers/CART.py:35: FutureWarning: A value is trying to be set on a copy of a DataFrame or Series through chained assignment using an inplace method.\n",
      "The behavior will change in pandas 3.0. This inplace method will never work because the intermediate object on which we are setting values always behaves as a copy.\n",
      "\n",
      "For example, when doing 'df[col].method(value, inplace=True)', try using 'df.method({col: value}, inplace=True)' or df[col] = df[col].method(value) instead, to perform the operation inplace on the original object.\n",
      "\n",
      "\n",
      "  data[feature].fillna(mean_val, inplace=True)\n"
     ]
    },
    {
     "ename": "IndexError",
     "evalue": "list index out of range",
     "output_type": "error",
     "traceback": [
      "\u001b[31m---------------------------------------------------------------------------\u001b[39m",
      "\u001b[31mIndexError\u001b[39m                                Traceback (most recent call last)",
      "\u001b[36mCell\u001b[39m\u001b[36m \u001b[39m\u001b[32mIn[20]\u001b[39m\u001b[32m, line 14\u001b[39m\n\u001b[32m     12\u001b[39m \u001b[38;5;28mprint\u001b[39m(\u001b[33m\"\u001b[39m\u001b[33m--- Exemplo de Previsão (CART) ---\u001b[39m\u001b[33m\"\u001b[39m)\n\u001b[32m     13\u001b[39m example = {\u001b[33m'\u001b[39m\u001b[33moutlook\u001b[39m\u001b[33m'\u001b[39m: \u001b[33m'\u001b[39m\u001b[33msunny\u001b[39m\u001b[33m'\u001b[39m, \u001b[33m'\u001b[39m\u001b[33mtemperature\u001b[39m\u001b[33m'\u001b[39m: \u001b[33m'\u001b[39m\u001b[33mcool\u001b[39m\u001b[33m'\u001b[39m, \u001b[33m'\u001b[39m\u001b[33mhumidity\u001b[39m\u001b[33m'\u001b[39m: \u001b[33m'\u001b[39m\u001b[33mhigh\u001b[39m\u001b[33m'\u001b[39m, \u001b[33m'\u001b[39m\u001b[33mwindy\u001b[39m\u001b[33m'\u001b[39m: \u001b[38;5;28;01mTrue\u001b[39;00m}\n\u001b[32m---> \u001b[39m\u001b[32m14\u001b[39m prediction = \u001b[43mmodel_cart\u001b[49m\u001b[43m.\u001b[49m\u001b[43mpredict\u001b[49m\u001b[43m(\u001b[49m\u001b[43mexample\u001b[49m\u001b[43m)\u001b[49m\n\u001b[32m     15\u001b[39m \u001b[38;5;28mprint\u001b[39m(\u001b[33mf\u001b[39m\u001b[33m\"\u001b[39m\u001b[33mPara o exemplo \u001b[39m\u001b[38;5;132;01m{\u001b[39;00mexample\u001b[38;5;132;01m}\u001b[39;00m\u001b[33m, a previsão é: \u001b[39m\u001b[33m'\u001b[39m\u001b[38;5;132;01m{\u001b[39;00mprediction\u001b[38;5;132;01m}\u001b[39;00m\u001b[33m'\u001b[39m\u001b[33m\"\u001b[39m)\n",
      "\u001b[36mFile \u001b[39m\u001b[32m/Library/Frameworks/Python.framework/Versions/3.13/lib/python3.13/site-packages/trees_classifiers/CART.py:20\u001b[39m, in \u001b[36mDecisionTreeCART.predict\u001b[39m\u001b[34m(self, sample)\u001b[39m\n\u001b[32m     18\u001b[39m \u001b[38;5;28;01mif\u001b[39;00m \u001b[38;5;28mself\u001b[39m.tree \u001b[38;5;129;01mis\u001b[39;00m \u001b[38;5;28;01mNone\u001b[39;00m:\n\u001b[32m     19\u001b[39m     \u001b[38;5;28;01mraise\u001b[39;00m \u001b[38;5;167;01mException\u001b[39;00m(\u001b[33m\"\u001b[39m\u001b[33mThe model has not been trained yet\u001b[39m\u001b[33m\"\u001b[39m)\n\u001b[32m---> \u001b[39m\u001b[32m20\u001b[39m \u001b[38;5;28;01mreturn\u001b[39;00m \u001b[38;5;28;43mself\u001b[39;49m\u001b[43m.\u001b[49m\u001b[43m_traverse_tree\u001b[49m\u001b[43m(\u001b[49m\u001b[43msample\u001b[49m\u001b[43m,\u001b[49m\u001b[43m \u001b[49m\u001b[38;5;28;43mself\u001b[39;49m\u001b[43m.\u001b[49m\u001b[43mtree\u001b[49m\u001b[43m)\u001b[49m\n",
      "\u001b[36mFile \u001b[39m\u001b[32m/Library/Frameworks/Python.framework/Versions/3.13/lib/python3.13/site-packages/trees_classifiers/CART.py:128\u001b[39m, in \u001b[36mDecisionTreeCART._traverse_tree\u001b[39m\u001b[34m(self, sample, node)\u001b[39m\n\u001b[32m    126\u001b[39m         \u001b[38;5;28;01mreturn\u001b[39;00m \u001b[38;5;28mself\u001b[39m._traverse_tree(sample, subtree)\n\u001b[32m    127\u001b[39m \u001b[38;5;28;01melif\u001b[39;00m \u001b[33m\"\u001b[39m\u001b[33m==\u001b[39m\u001b[33m\"\u001b[39m \u001b[38;5;129;01min\u001b[39;00m \u001b[38;5;28mstr\u001b[39m(key): \n\u001b[32m--> \u001b[39m\u001b[32m128\u001b[39m     cat_value = \u001b[38;5;28;43mstr\u001b[39;49m\u001b[43m(\u001b[49m\u001b[43mkey\u001b[49m\u001b[43m)\u001b[49m\u001b[43m.\u001b[49m\u001b[43msplit\u001b[49m\u001b[43m(\u001b[49m\u001b[33;43m\"\u001b[39;49m\u001b[33;43m == \u001b[39;49m\u001b[33;43m\"\u001b[39;49m\u001b[43m)\u001b[49m\u001b[43m[\u001b[49m\u001b[32;43m1\u001b[39;49m\u001b[43m]\u001b[49m\n\u001b[32m    129\u001b[39m     branch = \u001b[33m\"\u001b[39m\u001b[33m== \u001b[39m\u001b[33m\"\u001b[39m + cat_value \u001b[38;5;28;01mif\u001b[39;00m value == cat_value \u001b[38;5;28;01melse\u001b[39;00m \u001b[33m\"\u001b[39m\u001b[33m!= \u001b[39m\u001b[33m\"\u001b[39m + cat_value\n\u001b[32m    130\u001b[39m     \u001b[38;5;28;01mif\u001b[39;00m branch == key:\n",
      "\u001b[31mIndexError\u001b[39m: list index out of range"
     ]
    }
   ],
   "source": [
    "data = pd.read_csv('Test.csv')\n",
    "features = ['outlook', 'temperature', 'humidity', 'windy']\n",
    "target = 'play'\n",
    "\n",
    "print(\"--- Algoritmo CART (com dados diretos do CSV) ---\")\n",
    "model_cart = DecisionTreeCART(data=data, features=features, target_class=target)\n",
    "model_cart.build()\n",
    "print(\"Árvore Gerada:\")\n",
    "print(model_cart.tree)\n",
    "print(\"-\" * 30)\n",
    "\n",
    "print(\"--- Exemplo de Previsão (CART) ---\")\n",
    "example = {'outlook': 'sunny', 'temperature': 'cool', 'humidity': 'high', 'windy': True}\n",
    "prediction = model_cart.predict(example)\n",
    "print(f\"Para o exemplo {example}, a previsão é: '{prediction}'\")"
   ]
  }
 ],
 "metadata": {
  "kernelspec": {
   "display_name": "Python 3",
   "language": "python",
   "name": "python3"
  },
  "language_info": {
   "codemirror_mode": {
    "name": "ipython",
    "version": 3
   },
   "file_extension": ".py",
   "mimetype": "text/x-python",
   "name": "python",
   "nbconvert_exporter": "python",
   "pygments_lexer": "ipython3",
   "version": "3.13.7"
  }
 },
 "nbformat": 4,
 "nbformat_minor": 2
}
