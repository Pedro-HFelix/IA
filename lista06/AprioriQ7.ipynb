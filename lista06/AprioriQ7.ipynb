{
  "cells": [
    {
      "cell_type": "markdown",
      "metadata": {
        "id": "qm5lmIq9Xe-a"
      },
      "source": [
        "**Regras de associação**\n",
        "\n",
        "**Algoritmo Apriori**\n",
        "\n",
        "**Veja: https://www.youtube.com/watch?v=0v6PiOpsJi8**"
      ]
    },
    {
      "cell_type": "code",
      "execution_count": 63,
      "metadata": {
        "colab": {
          "base_uri": "https://localhost:8080/"
        },
        "id": "2bZM-_AsBVca",
        "outputId": "eb562175-4c00-425a-8bcc-91b37581f866"
      },
      "outputs": [
        {
          "name": "stdout",
          "output_type": "stream",
          "text": [
            "zsh:1: command not found: pip\n",
            "zsh:1: command not found: pip\n"
          ]
        }
      ],
      "source": [
        "!pip install apyori\n",
        "!pip install pandas"
      ]
    },
    {
      "cell_type": "code",
      "execution_count": 64,
      "metadata": {
        "id": "m3d_ivF4Bcn5"
      },
      "outputs": [],
      "source": [
        "import pandas as pd # type: ignore\n",
        "from apyori import apriori # type: ignore"
      ]
    },
    {
      "cell_type": "code",
      "execution_count": 65,
      "metadata": {
        "colab": {
          "base_uri": "https://localhost:8080/",
          "height": 268
        },
        "id": "fGx34zCzBkw1",
        "outputId": "374599c5-d21a-4db9-d0f3-b459a86a910a"
      },
      "outputs": [
        {
          "data": {
            "text/html": [
              "<div>\n",
              "<style scoped>\n",
              "    .dataframe tbody tr th:only-of-type {\n",
              "        vertical-align: middle;\n",
              "    }\n",
              "\n",
              "    .dataframe tbody tr th {\n",
              "        vertical-align: top;\n",
              "    }\n",
              "\n",
              "    .dataframe thead th {\n",
              "        text-align: right;\n",
              "    }\n",
              "</style>\n",
              "<table border=\"1\" class=\"dataframe\">\n",
              "  <thead>\n",
              "    <tr style=\"text-align: right;\">\n",
              "      <th></th>\n",
              "      <th>0</th>\n",
              "      <th>1</th>\n",
              "      <th>2</th>\n",
              "      <th>3</th>\n",
              "      <th>4</th>\n",
              "      <th>5</th>\n",
              "      <th>6</th>\n",
              "    </tr>\n",
              "  </thead>\n",
              "  <tbody>\n",
              "    <tr>\n",
              "      <th>0</th>\n",
              "      <td>Leite</td>\n",
              "      <td>Cafe</td>\n",
              "      <td>Cerveja</td>\n",
              "      <td>Pao</td>\n",
              "      <td>Manteiga</td>\n",
              "      <td>Arroz</td>\n",
              "      <td>Feijao</td>\n",
              "    </tr>\n",
              "    <tr>\n",
              "      <th>1</th>\n",
              "      <td>Nao</td>\n",
              "      <td>Sim</td>\n",
              "      <td>Nao</td>\n",
              "      <td>Sim</td>\n",
              "      <td>Sim</td>\n",
              "      <td>Nao</td>\n",
              "      <td>Nao</td>\n",
              "    </tr>\n",
              "    <tr>\n",
              "      <th>2</th>\n",
              "      <td>Sim</td>\n",
              "      <td>Nao</td>\n",
              "      <td>Sim</td>\n",
              "      <td>Sim</td>\n",
              "      <td>Sim</td>\n",
              "      <td>Nao</td>\n",
              "      <td>Nao</td>\n",
              "    </tr>\n",
              "    <tr>\n",
              "      <th>3</th>\n",
              "      <td>Nao</td>\n",
              "      <td>Sim</td>\n",
              "      <td>Nao</td>\n",
              "      <td>Sim</td>\n",
              "      <td>Sim</td>\n",
              "      <td>Nao</td>\n",
              "      <td>Nao</td>\n",
              "    </tr>\n",
              "    <tr>\n",
              "      <th>4</th>\n",
              "      <td>Sim</td>\n",
              "      <td>Sim</td>\n",
              "      <td>Nao</td>\n",
              "      <td>Sim</td>\n",
              "      <td>Sim</td>\n",
              "      <td>Nao</td>\n",
              "      <td>Nao</td>\n",
              "    </tr>\n",
              "    <tr>\n",
              "      <th>5</th>\n",
              "      <td>Nao</td>\n",
              "      <td>Nao</td>\n",
              "      <td>Sim</td>\n",
              "      <td>Nao</td>\n",
              "      <td>Nao</td>\n",
              "      <td>Nao</td>\n",
              "      <td>Nao</td>\n",
              "    </tr>\n",
              "    <tr>\n",
              "      <th>6</th>\n",
              "      <td>Nao</td>\n",
              "      <td>Nao</td>\n",
              "      <td>Nao</td>\n",
              "      <td>Nao</td>\n",
              "      <td>Sim</td>\n",
              "      <td>Nao</td>\n",
              "      <td>Nao</td>\n",
              "    </tr>\n",
              "    <tr>\n",
              "      <th>7</th>\n",
              "      <td>Nao</td>\n",
              "      <td>Nao</td>\n",
              "      <td>Nao</td>\n",
              "      <td>Sim</td>\n",
              "      <td>Nao</td>\n",
              "      <td>Nao</td>\n",
              "      <td>Nao</td>\n",
              "    </tr>\n",
              "    <tr>\n",
              "      <th>8</th>\n",
              "      <td>Nao</td>\n",
              "      <td>Nao</td>\n",
              "      <td>Nao</td>\n",
              "      <td>Nao</td>\n",
              "      <td>Nao</td>\n",
              "      <td>Nao</td>\n",
              "      <td>Sim</td>\n",
              "    </tr>\n",
              "    <tr>\n",
              "      <th>9</th>\n",
              "      <td>Nao</td>\n",
              "      <td>Nao</td>\n",
              "      <td>Nao</td>\n",
              "      <td>Nao</td>\n",
              "      <td>Nao</td>\n",
              "      <td>Sim</td>\n",
              "      <td>Sim</td>\n",
              "    </tr>\n",
              "    <tr>\n",
              "      <th>10</th>\n",
              "      <td>Nao</td>\n",
              "      <td>Nao</td>\n",
              "      <td>Nao</td>\n",
              "      <td>Nao</td>\n",
              "      <td>Nao</td>\n",
              "      <td>Sim</td>\n",
              "      <td>Nao</td>\n",
              "    </tr>\n",
              "  </tbody>\n",
              "</table>\n",
              "</div>"
            ],
            "text/plain": [
              "        0     1        2    3         4      5       6\n",
              "0   Leite  Cafe  Cerveja  Pao  Manteiga  Arroz  Feijao\n",
              "1     Nao   Sim      Nao  Sim       Sim    Nao     Nao\n",
              "2     Sim   Nao      Sim  Sim       Sim    Nao     Nao\n",
              "3     Nao   Sim      Nao  Sim       Sim    Nao     Nao\n",
              "4     Sim   Sim      Nao  Sim       Sim    Nao     Nao\n",
              "5     Nao   Nao      Sim  Nao       Nao    Nao     Nao\n",
              "6     Nao   Nao      Nao  Nao       Sim    Nao     Nao\n",
              "7     Nao   Nao      Nao  Sim       Nao    Nao     Nao\n",
              "8     Nao   Nao      Nao  Nao       Nao    Nao     Sim\n",
              "9     Nao   Nao      Nao  Nao       Nao    Sim     Sim\n",
              "10    Nao   Nao      Nao  Nao       Nao    Sim     Nao"
            ]
          },
          "execution_count": 65,
          "metadata": {},
          "output_type": "execute_result"
        }
      ],
      "source": [
        "#encoding = \"cp1252\", encoding='utf-8', encoding='latin1'etc\n",
        "# base= pd.read_csv('/content/sample_data/Aula25-10.csv', sep=';',encoding='cp1252', header=None)\n",
        "base= pd.read_csv('dataset.csv', sep=',', header=None)\n",
        "\n",
        "base"
      ]
    },
    {
      "cell_type": "code",
      "execution_count": 66,
      "metadata": {
        "colab": {
          "base_uri": "https://localhost:8080/"
        },
        "id": "oIBsczbGCxWf",
        "outputId": "ff04c1bb-934a-452d-9c98-3eaa99c09af7"
      },
      "outputs": [
        {
          "data": {
            "text/plain": [
              "(11, 7)"
            ]
          },
          "execution_count": 66,
          "metadata": {},
          "output_type": "execute_result"
        }
      ],
      "source": [
        "base.shape"
      ]
    },
    {
      "cell_type": "code",
      "execution_count": 67,
      "metadata": {},
      "outputs": [],
      "source": [
        "nomes_dos_produtos = list(base.iloc[0])\n",
        "dados_transacoes = base.to_numpy()"
      ]
    },
    {
      "cell_type": "markdown",
      "metadata": {
        "id": "cQyNolxV37tx"
      },
      "source": [
        "**Como estaremos treinando um modelo a priori, que recebe entradas em formato de lista, precisamos transformar o dataframe em uma lista de transações.**"
      ]
    },
    {
      "cell_type": "code",
      "execution_count": 68,
      "metadata": {
        "id": "ZF8i0EdWCMjY"
      },
      "outputs": [],
      "source": [
        "transacoes_com_ausencia = []\n",
        "for transacao in dados_transacoes:\n",
        "    cesta = []\n",
        "    for i, item in enumerate(transacao):\n",
        "        nome_do_produto = nomes_dos_produtos[i]\n",
        "        if item.strip() == 'Sim':\n",
        "            cesta.append(nome_do_produto)\n",
        "        else:\n",
        "            cesta.append(f\"Nao_{nome_do_produto}\")\n",
        "    transacoes_com_ausencia.append(cesta)"
      ]
    },
    {
      "cell_type": "code",
      "execution_count": 69,
      "metadata": {
        "colab": {
          "base_uri": "https://localhost:8080/"
        },
        "id": "XH2CNc6VC3e3",
        "outputId": "eac451b7-7c6b-4cdc-9926-caf1468ad8fe"
      },
      "outputs": [
        {
          "data": {
            "text/plain": [
              "[['Nao_Leite',\n",
              "  'Nao_Cafe',\n",
              "  'Nao_Cerveja',\n",
              "  'Nao_Pao',\n",
              "  'Nao_Manteiga',\n",
              "  'Nao_Arroz',\n",
              "  'Nao_Feijao'],\n",
              " ['Nao_Leite',\n",
              "  'Cafe',\n",
              "  'Nao_Cerveja',\n",
              "  'Pao',\n",
              "  'Manteiga',\n",
              "  'Nao_Arroz',\n",
              "  'Nao_Feijao'],\n",
              " ['Leite',\n",
              "  'Nao_Cafe',\n",
              "  'Cerveja',\n",
              "  'Pao',\n",
              "  'Manteiga',\n",
              "  'Nao_Arroz',\n",
              "  'Nao_Feijao'],\n",
              " ['Nao_Leite',\n",
              "  'Cafe',\n",
              "  'Nao_Cerveja',\n",
              "  'Pao',\n",
              "  'Manteiga',\n",
              "  'Nao_Arroz',\n",
              "  'Nao_Feijao'],\n",
              " ['Leite',\n",
              "  'Cafe',\n",
              "  'Nao_Cerveja',\n",
              "  'Pao',\n",
              "  'Manteiga',\n",
              "  'Nao_Arroz',\n",
              "  'Nao_Feijao'],\n",
              " ['Nao_Leite',\n",
              "  'Nao_Cafe',\n",
              "  'Cerveja',\n",
              "  'Nao_Pao',\n",
              "  'Nao_Manteiga',\n",
              "  'Nao_Arroz',\n",
              "  'Nao_Feijao'],\n",
              " ['Nao_Leite',\n",
              "  'Nao_Cafe',\n",
              "  'Nao_Cerveja',\n",
              "  'Nao_Pao',\n",
              "  'Manteiga',\n",
              "  'Nao_Arroz',\n",
              "  'Nao_Feijao'],\n",
              " ['Nao_Leite',\n",
              "  'Nao_Cafe',\n",
              "  'Nao_Cerveja',\n",
              "  'Pao',\n",
              "  'Nao_Manteiga',\n",
              "  'Nao_Arroz',\n",
              "  'Nao_Feijao'],\n",
              " ['Nao_Leite',\n",
              "  'Nao_Cafe',\n",
              "  'Nao_Cerveja',\n",
              "  'Nao_Pao',\n",
              "  'Nao_Manteiga',\n",
              "  'Nao_Arroz',\n",
              "  'Feijao'],\n",
              " ['Nao_Leite',\n",
              "  'Nao_Cafe',\n",
              "  'Nao_Cerveja',\n",
              "  'Nao_Pao',\n",
              "  'Nao_Manteiga',\n",
              "  'Arroz',\n",
              "  'Feijao'],\n",
              " ['Nao_Leite',\n",
              "  'Nao_Cafe',\n",
              "  'Nao_Cerveja',\n",
              "  'Nao_Pao',\n",
              "  'Nao_Manteiga',\n",
              "  'Arroz',\n",
              "  'Nao_Feijao']]"
            ]
          },
          "execution_count": 69,
          "metadata": {},
          "output_type": "execute_result"
        }
      ],
      "source": [
        "transacoes_com_ausencia"
      ]
    },
    {
      "cell_type": "code",
      "execution_count": 70,
      "metadata": {
        "colab": {
          "base_uri": "https://localhost:8080/"
        },
        "id": "jF4Ec_ryDNfw",
        "outputId": "c23f148b-86d9-4115-f247-0c23d218ef31"
      },
      "outputs": [
        {
          "data": {
            "text/plain": [
              "list"
            ]
          },
          "execution_count": 70,
          "metadata": {},
          "output_type": "execute_result"
        }
      ],
      "source": [
        "type(transacoes_com_ausencia)"
      ]
    },
    {
      "cell_type": "markdown",
      "metadata": {
        "id": "ggzA0uJg_3Ns"
      },
      "source": [
        "**Vamos chamar executar o algoritmo apriori e armazenar as regras obtidas**"
      ]
    },
    {
      "cell_type": "code",
      "execution_count": 71,
      "metadata": {
        "colab": {
          "base_uri": "https://localhost:8080/"
        },
        "id": "DuX5YuabzqfQ",
        "outputId": "a1b2c83c-b59a-4d8a-f571-497332f55288"
      },
      "outputs": [
        {
          "name": "stdout",
          "output_type": "stream",
          "text": [
            "24\n",
            "[RelationRecord(items=frozenset({'Nao_Arroz', 'Manteiga'}), support=0.45454545454545453, ordered_statistics=[OrderedStatistic(items_base=frozenset({'Manteiga'}), items_add=frozenset({'Nao_Arroz'}), confidence=1.0, lift=1.222222222222222)]), RelationRecord(items=frozenset({'Nao_Feijao', 'Manteiga'}), support=0.45454545454545453, ordered_statistics=[OrderedStatistic(items_base=frozenset({'Manteiga'}), items_add=frozenset({'Nao_Feijao'}), confidence=1.0, lift=1.222222222222222)]), RelationRecord(items=frozenset({'Pao', 'Nao_Arroz'}), support=0.45454545454545453, ordered_statistics=[OrderedStatistic(items_base=frozenset({'Pao'}), items_add=frozenset({'Nao_Arroz'}), confidence=1.0, lift=1.222222222222222)]), RelationRecord(items=frozenset({'Nao_Manteiga', 'Nao_Cafe'}), support=0.5454545454545454, ordered_statistics=[OrderedStatistic(items_base=frozenset({'Nao_Cafe'}), items_add=frozenset({'Nao_Manteiga'}), confidence=0.7499999999999999, lift=1.375), OrderedStatistic(items_base=frozenset({'Nao_Manteiga'}), items_add=frozenset({'Nao_Cafe'}), confidence=1.0, lift=1.375)]), RelationRecord(items=frozenset({'Nao_Pao', 'Nao_Cafe'}), support=0.5454545454545454, ordered_statistics=[OrderedStatistic(items_base=frozenset({'Nao_Cafe'}), items_add=frozenset({'Nao_Pao'}), confidence=0.7499999999999999, lift=1.375), OrderedStatistic(items_base=frozenset({'Nao_Pao'}), items_add=frozenset({'Nao_Cafe'}), confidence=1.0, lift=1.375)]), RelationRecord(items=frozenset({'Pao', 'Nao_Feijao'}), support=0.45454545454545453, ordered_statistics=[OrderedStatistic(items_base=frozenset({'Pao'}), items_add=frozenset({'Nao_Feijao'}), confidence=1.0, lift=1.222222222222222)]), RelationRecord(items=frozenset({'Nao_Manteiga', 'Nao_Leite'}), support=0.5454545454545454, ordered_statistics=[OrderedStatistic(items_base=frozenset({'Nao_Leite'}), items_add=frozenset({'Nao_Manteiga'}), confidence=0.6666666666666666, lift=1.2222222222222223), OrderedStatistic(items_base=frozenset({'Nao_Manteiga'}), items_add=frozenset({'Nao_Leite'}), confidence=1.0, lift=1.222222222222222)]), RelationRecord(items=frozenset({'Nao_Pao', 'Nao_Leite'}), support=0.5454545454545454, ordered_statistics=[OrderedStatistic(items_base=frozenset({'Nao_Leite'}), items_add=frozenset({'Nao_Pao'}), confidence=0.6666666666666666, lift=1.2222222222222223), OrderedStatistic(items_base=frozenset({'Nao_Pao'}), items_add=frozenset({'Nao_Leite'}), confidence=1.0, lift=1.222222222222222)]), RelationRecord(items=frozenset({'Nao_Pao', 'Nao_Manteiga'}), support=0.45454545454545453, ordered_statistics=[OrderedStatistic(items_base=frozenset({'Nao_Manteiga'}), items_add=frozenset({'Nao_Pao'}), confidence=0.8333333333333334, lift=1.527777777777778), OrderedStatistic(items_base=frozenset({'Nao_Pao'}), items_add=frozenset({'Nao_Manteiga'}), confidence=0.8333333333333334, lift=1.527777777777778)]), RelationRecord(items=frozenset({'Nao_Arroz', 'Nao_Feijao', 'Manteiga'}), support=0.45454545454545453, ordered_statistics=[OrderedStatistic(items_base=frozenset({'Manteiga'}), items_add=frozenset({'Nao_Arroz', 'Nao_Feijao'}), confidence=1.0, lift=1.375), OrderedStatistic(items_base=frozenset({'Nao_Arroz', 'Manteiga'}), items_add=frozenset({'Nao_Feijao'}), confidence=1.0, lift=1.222222222222222), OrderedStatistic(items_base=frozenset({'Nao_Feijao', 'Manteiga'}), items_add=frozenset({'Nao_Arroz'}), confidence=1.0, lift=1.222222222222222), OrderedStatistic(items_base=frozenset({'Nao_Arroz', 'Nao_Feijao'}), items_add=frozenset({'Manteiga'}), confidence=0.625, lift=1.375)]), RelationRecord(items=frozenset({'Pao', 'Nao_Arroz', 'Nao_Feijao'}), support=0.45454545454545453, ordered_statistics=[OrderedStatistic(items_base=frozenset({'Pao'}), items_add=frozenset({'Nao_Arroz', 'Nao_Feijao'}), confidence=1.0, lift=1.375), OrderedStatistic(items_base=frozenset({'Nao_Arroz', 'Nao_Feijao'}), items_add=frozenset({'Pao'}), confidence=0.625, lift=1.375), OrderedStatistic(items_base=frozenset({'Pao', 'Nao_Arroz'}), items_add=frozenset({'Nao_Feijao'}), confidence=1.0, lift=1.222222222222222), OrderedStatistic(items_base=frozenset({'Pao', 'Nao_Feijao'}), items_add=frozenset({'Nao_Arroz'}), confidence=1.0, lift=1.222222222222222)]), RelationRecord(items=frozenset({'Nao_Leite', 'Nao_Cerveja', 'Nao_Cafe'}), support=0.5454545454545454, ordered_statistics=[OrderedStatistic(items_base=frozenset({'Nao_Leite'}), items_add=frozenset({'Nao_Cerveja', 'Nao_Cafe'}), confidence=0.6666666666666666, lift=1.2222222222222223), OrderedStatistic(items_base=frozenset({'Nao_Cerveja', 'Nao_Cafe'}), items_add=frozenset({'Nao_Leite'}), confidence=1.0, lift=1.222222222222222)]), RelationRecord(items=frozenset({'Nao_Manteiga', 'Nao_Cerveja', 'Nao_Cafe'}), support=0.45454545454545453, ordered_statistics=[OrderedStatistic(items_base=frozenset({'Nao_Cafe'}), items_add=frozenset({'Nao_Manteiga', 'Nao_Cerveja'}), confidence=0.625, lift=1.375), OrderedStatistic(items_base=frozenset({'Nao_Manteiga'}), items_add=frozenset({'Nao_Cerveja', 'Nao_Cafe'}), confidence=0.8333333333333334, lift=1.527777777777778), OrderedStatistic(items_base=frozenset({'Nao_Cerveja', 'Nao_Cafe'}), items_add=frozenset({'Nao_Manteiga'}), confidence=0.8333333333333334, lift=1.527777777777778), OrderedStatistic(items_base=frozenset({'Nao_Manteiga', 'Nao_Cerveja'}), items_add=frozenset({'Nao_Cafe'}), confidence=1.0, lift=1.375)]), RelationRecord(items=frozenset({'Nao_Pao', 'Nao_Cerveja', 'Nao_Cafe'}), support=0.45454545454545453, ordered_statistics=[OrderedStatistic(items_base=frozenset({'Nao_Cafe'}), items_add=frozenset({'Nao_Pao', 'Nao_Cerveja'}), confidence=0.625, lift=1.375), OrderedStatistic(items_base=frozenset({'Nao_Pao'}), items_add=frozenset({'Nao_Cerveja', 'Nao_Cafe'}), confidence=0.8333333333333334, lift=1.527777777777778), OrderedStatistic(items_base=frozenset({'Nao_Cerveja', 'Nao_Cafe'}), items_add=frozenset({'Nao_Pao'}), confidence=0.8333333333333334, lift=1.527777777777778), OrderedStatistic(items_base=frozenset({'Nao_Pao', 'Nao_Cerveja'}), items_add=frozenset({'Nao_Cafe'}), confidence=1.0, lift=1.375)]), RelationRecord(items=frozenset({'Nao_Manteiga', 'Nao_Leite', 'Nao_Cafe'}), support=0.5454545454545454, ordered_statistics=[OrderedStatistic(items_base=frozenset({'Nao_Cafe'}), items_add=frozenset({'Nao_Leite', 'Nao_Manteiga'}), confidence=0.7499999999999999, lift=1.375), OrderedStatistic(items_base=frozenset({'Nao_Leite'}), items_add=frozenset({'Nao_Manteiga', 'Nao_Cafe'}), confidence=0.6666666666666666, lift=1.2222222222222223), OrderedStatistic(items_base=frozenset({'Nao_Manteiga'}), items_add=frozenset({'Nao_Leite', 'Nao_Cafe'}), confidence=1.0, lift=1.5714285714285714), OrderedStatistic(items_base=frozenset({'Nao_Leite', 'Nao_Cafe'}), items_add=frozenset({'Nao_Manteiga'}), confidence=0.8571428571428571, lift=1.5714285714285714), OrderedStatistic(items_base=frozenset({'Nao_Manteiga', 'Nao_Cafe'}), items_add=frozenset({'Nao_Leite'}), confidence=1.0, lift=1.222222222222222), OrderedStatistic(items_base=frozenset({'Nao_Manteiga', 'Nao_Leite'}), items_add=frozenset({'Nao_Cafe'}), confidence=1.0, lift=1.375)]), RelationRecord(items=frozenset({'Nao_Pao', 'Nao_Leite', 'Nao_Cafe'}), support=0.5454545454545454, ordered_statistics=[OrderedStatistic(items_base=frozenset({'Nao_Cafe'}), items_add=frozenset({'Nao_Pao', 'Nao_Leite'}), confidence=0.7499999999999999, lift=1.375), OrderedStatistic(items_base=frozenset({'Nao_Leite'}), items_add=frozenset({'Nao_Pao', 'Nao_Cafe'}), confidence=0.6666666666666666, lift=1.2222222222222223), OrderedStatistic(items_base=frozenset({'Nao_Pao'}), items_add=frozenset({'Nao_Leite', 'Nao_Cafe'}), confidence=1.0, lift=1.5714285714285714), OrderedStatistic(items_base=frozenset({'Nao_Leite', 'Nao_Cafe'}), items_add=frozenset({'Nao_Pao'}), confidence=0.8571428571428571, lift=1.5714285714285714), OrderedStatistic(items_base=frozenset({'Nao_Pao', 'Nao_Cafe'}), items_add=frozenset({'Nao_Leite'}), confidence=1.0, lift=1.222222222222222), OrderedStatistic(items_base=frozenset({'Nao_Pao', 'Nao_Leite'}), items_add=frozenset({'Nao_Cafe'}), confidence=1.0, lift=1.375)]), RelationRecord(items=frozenset({'Nao_Pao', 'Nao_Manteiga', 'Nao_Cafe'}), support=0.45454545454545453, ordered_statistics=[OrderedStatistic(items_base=frozenset({'Nao_Cafe'}), items_add=frozenset({'Nao_Pao', 'Nao_Manteiga'}), confidence=0.625, lift=1.375), OrderedStatistic(items_base=frozenset({'Nao_Manteiga'}), items_add=frozenset({'Nao_Pao', 'Nao_Cafe'}), confidence=0.8333333333333334, lift=1.527777777777778), OrderedStatistic(items_base=frozenset({'Nao_Pao'}), items_add=frozenset({'Nao_Manteiga', 'Nao_Cafe'}), confidence=0.8333333333333334, lift=1.527777777777778), OrderedStatistic(items_base=frozenset({'Nao_Manteiga', 'Nao_Cafe'}), items_add=frozenset({'Nao_Pao'}), confidence=0.8333333333333334, lift=1.527777777777778), OrderedStatistic(items_base=frozenset({'Nao_Pao', 'Nao_Cafe'}), items_add=frozenset({'Nao_Manteiga'}), confidence=0.8333333333333334, lift=1.527777777777778), OrderedStatistic(items_base=frozenset({'Nao_Pao', 'Nao_Manteiga'}), items_add=frozenset({'Nao_Cafe'}), confidence=1.0, lift=1.375)]), RelationRecord(items=frozenset({'Nao_Leite', 'Nao_Manteiga', 'Nao_Cerveja'}), support=0.45454545454545453, ordered_statistics=[OrderedStatistic(items_base=frozenset({'Nao_Manteiga'}), items_add=frozenset({'Nao_Leite', 'Nao_Cerveja'}), confidence=0.8333333333333334, lift=1.1458333333333333), OrderedStatistic(items_base=frozenset({'Nao_Leite', 'Nao_Cerveja'}), items_add=frozenset({'Nao_Manteiga'}), confidence=0.625, lift=1.1458333333333335), OrderedStatistic(items_base=frozenset({'Nao_Manteiga', 'Nao_Cerveja'}), items_add=frozenset({'Nao_Leite'}), confidence=1.0, lift=1.222222222222222)]), RelationRecord(items=frozenset({'Nao_Leite', 'Nao_Pao', 'Nao_Cerveja'}), support=0.45454545454545453, ordered_statistics=[OrderedStatistic(items_base=frozenset({'Nao_Pao'}), items_add=frozenset({'Nao_Leite', 'Nao_Cerveja'}), confidence=0.8333333333333334, lift=1.1458333333333333), OrderedStatistic(items_base=frozenset({'Nao_Leite', 'Nao_Cerveja'}), items_add=frozenset({'Nao_Pao'}), confidence=0.625, lift=1.1458333333333335), OrderedStatistic(items_base=frozenset({'Nao_Pao', 'Nao_Cerveja'}), items_add=frozenset({'Nao_Leite'}), confidence=1.0, lift=1.222222222222222)]), RelationRecord(items=frozenset({'Nao_Pao', 'Nao_Manteiga', 'Nao_Leite'}), support=0.45454545454545453, ordered_statistics=[OrderedStatistic(items_base=frozenset({'Nao_Manteiga'}), items_add=frozenset({'Nao_Pao', 'Nao_Leite'}), confidence=0.8333333333333334, lift=1.527777777777778), OrderedStatistic(items_base=frozenset({'Nao_Pao'}), items_add=frozenset({'Nao_Leite', 'Nao_Manteiga'}), confidence=0.8333333333333334, lift=1.527777777777778), OrderedStatistic(items_base=frozenset({'Nao_Manteiga', 'Nao_Leite'}), items_add=frozenset({'Nao_Pao'}), confidence=0.8333333333333334, lift=1.527777777777778), OrderedStatistic(items_base=frozenset({'Nao_Pao', 'Nao_Leite'}), items_add=frozenset({'Nao_Manteiga'}), confidence=0.8333333333333334, lift=1.527777777777778), OrderedStatistic(items_base=frozenset({'Nao_Pao', 'Nao_Manteiga'}), items_add=frozenset({'Nao_Leite'}), confidence=1.0, lift=1.222222222222222)]), RelationRecord(items=frozenset({'Nao_Arroz', 'Nao_Feijao', 'Nao_Leite', 'Nao_Cerveja'}), support=0.45454545454545453, ordered_statistics=[OrderedStatistic(items_base=frozenset({'Nao_Arroz', 'Nao_Cerveja'}), items_add=frozenset({'Nao_Feijao', 'Nao_Leite'}), confidence=0.7142857142857143, lift=1.1224489795918369), OrderedStatistic(items_base=frozenset({'Nao_Arroz', 'Nao_Leite'}), items_add=frozenset({'Nao_Feijao', 'Nao_Cerveja'}), confidence=0.7142857142857143, lift=1.1224489795918369), OrderedStatistic(items_base=frozenset({'Nao_Feijao', 'Nao_Cerveja'}), items_add=frozenset({'Nao_Arroz', 'Nao_Leite'}), confidence=0.7142857142857143, lift=1.1224489795918369), OrderedStatistic(items_base=frozenset({'Nao_Feijao', 'Nao_Leite'}), items_add=frozenset({'Nao_Arroz', 'Nao_Cerveja'}), confidence=0.7142857142857143, lift=1.1224489795918369)]), RelationRecord(items=frozenset({'Nao_Leite', 'Nao_Manteiga', 'Nao_Cerveja', 'Nao_Cafe'}), support=0.45454545454545453, ordered_statistics=[OrderedStatistic(items_base=frozenset({'Nao_Cafe'}), items_add=frozenset({'Nao_Manteiga', 'Nao_Leite', 'Nao_Cerveja'}), confidence=0.625, lift=1.375), OrderedStatistic(items_base=frozenset({'Nao_Manteiga'}), items_add=frozenset({'Nao_Cafe', 'Nao_Leite', 'Nao_Cerveja'}), confidence=0.8333333333333334, lift=1.527777777777778), OrderedStatistic(items_base=frozenset({'Nao_Cerveja', 'Nao_Cafe'}), items_add=frozenset({'Nao_Manteiga', 'Nao_Leite'}), confidence=0.8333333333333334, lift=1.527777777777778), OrderedStatistic(items_base=frozenset({'Nao_Leite', 'Nao_Cafe'}), items_add=frozenset({'Nao_Manteiga', 'Nao_Cerveja'}), confidence=0.7142857142857143, lift=1.5714285714285716), OrderedStatistic(items_base=frozenset({'Nao_Manteiga', 'Nao_Cafe'}), items_add=frozenset({'Nao_Leite', 'Nao_Cerveja'}), confidence=0.8333333333333334, lift=1.1458333333333333), OrderedStatistic(items_base=frozenset({'Nao_Leite', 'Nao_Cerveja'}), items_add=frozenset({'Nao_Manteiga', 'Nao_Cafe'}), confidence=0.625, lift=1.1458333333333335), OrderedStatistic(items_base=frozenset({'Nao_Manteiga', 'Nao_Cerveja'}), items_add=frozenset({'Nao_Leite', 'Nao_Cafe'}), confidence=1.0, lift=1.5714285714285714), OrderedStatistic(items_base=frozenset({'Nao_Manteiga', 'Nao_Leite'}), items_add=frozenset({'Nao_Cerveja', 'Nao_Cafe'}), confidence=0.8333333333333334, lift=1.527777777777778), OrderedStatistic(items_base=frozenset({'Nao_Leite', 'Nao_Cerveja', 'Nao_Cafe'}), items_add=frozenset({'Nao_Manteiga'}), confidence=0.8333333333333334, lift=1.527777777777778), OrderedStatistic(items_base=frozenset({'Nao_Manteiga', 'Nao_Cerveja', 'Nao_Cafe'}), items_add=frozenset({'Nao_Leite'}), confidence=1.0, lift=1.222222222222222), OrderedStatistic(items_base=frozenset({'Nao_Leite', 'Nao_Manteiga', 'Nao_Cerveja'}), items_add=frozenset({'Nao_Cafe'}), confidence=1.0, lift=1.375)]), RelationRecord(items=frozenset({'Nao_Leite', 'Nao_Pao', 'Nao_Cerveja', 'Nao_Cafe'}), support=0.45454545454545453, ordered_statistics=[OrderedStatistic(items_base=frozenset({'Nao_Cafe'}), items_add=frozenset({'Nao_Pao', 'Nao_Leite', 'Nao_Cerveja'}), confidence=0.625, lift=1.375), OrderedStatistic(items_base=frozenset({'Nao_Pao'}), items_add=frozenset({'Nao_Cafe', 'Nao_Leite', 'Nao_Cerveja'}), confidence=0.8333333333333334, lift=1.527777777777778), OrderedStatistic(items_base=frozenset({'Nao_Cerveja', 'Nao_Cafe'}), items_add=frozenset({'Nao_Pao', 'Nao_Leite'}), confidence=0.8333333333333334, lift=1.527777777777778), OrderedStatistic(items_base=frozenset({'Nao_Leite', 'Nao_Cafe'}), items_add=frozenset({'Nao_Pao', 'Nao_Cerveja'}), confidence=0.7142857142857143, lift=1.5714285714285716), OrderedStatistic(items_base=frozenset({'Nao_Pao', 'Nao_Cafe'}), items_add=frozenset({'Nao_Leite', 'Nao_Cerveja'}), confidence=0.8333333333333334, lift=1.1458333333333333), OrderedStatistic(items_base=frozenset({'Nao_Leite', 'Nao_Cerveja'}), items_add=frozenset({'Nao_Pao', 'Nao_Cafe'}), confidence=0.625, lift=1.1458333333333335), OrderedStatistic(items_base=frozenset({'Nao_Pao', 'Nao_Cerveja'}), items_add=frozenset({'Nao_Leite', 'Nao_Cafe'}), confidence=1.0, lift=1.5714285714285714), OrderedStatistic(items_base=frozenset({'Nao_Pao', 'Nao_Leite'}), items_add=frozenset({'Nao_Cerveja', 'Nao_Cafe'}), confidence=0.8333333333333334, lift=1.527777777777778), OrderedStatistic(items_base=frozenset({'Nao_Leite', 'Nao_Cerveja', 'Nao_Cafe'}), items_add=frozenset({'Nao_Pao'}), confidence=0.8333333333333334, lift=1.527777777777778), OrderedStatistic(items_base=frozenset({'Nao_Pao', 'Nao_Cerveja', 'Nao_Cafe'}), items_add=frozenset({'Nao_Leite'}), confidence=1.0, lift=1.222222222222222), OrderedStatistic(items_base=frozenset({'Nao_Leite', 'Nao_Pao', 'Nao_Cerveja'}), items_add=frozenset({'Nao_Cafe'}), confidence=1.0, lift=1.375)]), RelationRecord(items=frozenset({'Nao_Pao', 'Nao_Manteiga', 'Nao_Leite', 'Nao_Cafe'}), support=0.45454545454545453, ordered_statistics=[OrderedStatistic(items_base=frozenset({'Nao_Cafe'}), items_add=frozenset({'Nao_Pao', 'Nao_Leite', 'Nao_Manteiga'}), confidence=0.625, lift=1.375), OrderedStatistic(items_base=frozenset({'Nao_Manteiga'}), items_add=frozenset({'Nao_Pao', 'Nao_Leite', 'Nao_Cafe'}), confidence=0.8333333333333334, lift=1.527777777777778), OrderedStatistic(items_base=frozenset({'Nao_Pao'}), items_add=frozenset({'Nao_Leite', 'Nao_Manteiga', 'Nao_Cafe'}), confidence=0.8333333333333334, lift=1.527777777777778), OrderedStatistic(items_base=frozenset({'Nao_Leite', 'Nao_Cafe'}), items_add=frozenset({'Nao_Pao', 'Nao_Manteiga'}), confidence=0.7142857142857143, lift=1.5714285714285716), OrderedStatistic(items_base=frozenset({'Nao_Manteiga', 'Nao_Cafe'}), items_add=frozenset({'Nao_Pao', 'Nao_Leite'}), confidence=0.8333333333333334, lift=1.527777777777778), OrderedStatistic(items_base=frozenset({'Nao_Pao', 'Nao_Cafe'}), items_add=frozenset({'Nao_Leite', 'Nao_Manteiga'}), confidence=0.8333333333333334, lift=1.527777777777778), OrderedStatistic(items_base=frozenset({'Nao_Manteiga', 'Nao_Leite'}), items_add=frozenset({'Nao_Pao', 'Nao_Cafe'}), confidence=0.8333333333333334, lift=1.527777777777778), OrderedStatistic(items_base=frozenset({'Nao_Pao', 'Nao_Leite'}), items_add=frozenset({'Nao_Manteiga', 'Nao_Cafe'}), confidence=0.8333333333333334, lift=1.527777777777778), OrderedStatistic(items_base=frozenset({'Nao_Pao', 'Nao_Manteiga'}), items_add=frozenset({'Nao_Leite', 'Nao_Cafe'}), confidence=1.0, lift=1.5714285714285714), OrderedStatistic(items_base=frozenset({'Nao_Manteiga', 'Nao_Leite', 'Nao_Cafe'}), items_add=frozenset({'Nao_Pao'}), confidence=0.8333333333333334, lift=1.527777777777778), OrderedStatistic(items_base=frozenset({'Nao_Pao', 'Nao_Leite', 'Nao_Cafe'}), items_add=frozenset({'Nao_Manteiga'}), confidence=0.8333333333333334, lift=1.527777777777778), OrderedStatistic(items_base=frozenset({'Nao_Pao', 'Nao_Manteiga', 'Nao_Cafe'}), items_add=frozenset({'Nao_Leite'}), confidence=1.0, lift=1.222222222222222), OrderedStatistic(items_base=frozenset({'Nao_Pao', 'Nao_Manteiga', 'Nao_Leite'}), items_add=frozenset({'Nao_Cafe'}), confidence=1.0, lift=1.375)])]\n"
          ]
        }
      ],
      "source": [
        "regras = apriori(transacoes_com_ausencia, min_support=0.4, min_confidence=0.6, min_lift=1.1)\n",
        "saida = list(regras)\n",
        "print(len(saida))\n",
        "print(saida)"
      ]
    },
    {
      "cell_type": "code",
      "execution_count": 72,
      "metadata": {
        "colab": {
          "base_uri": "https://localhost:8080/"
        },
        "id": "l4vMQUJfHu0e",
        "outputId": "5f387517-3c8d-4e0c-c437-2cef2a919b59"
      },
      "outputs": [
        {
          "name": "stdout",
          "output_type": "stream",
          "text": [
            "RelationRecord(items=frozenset({'Nao_Arroz', 'Manteiga'}), support=0.45454545454545453, ordered_statistics=[OrderedStatistic(items_base=frozenset({'Manteiga'}), items_add=frozenset({'Nao_Arroz'}), confidence=1.0, lift=1.222222222222222)])\n"
          ]
        }
      ],
      "source": [
        "print(saida[0])"
      ]
    },
    {
      "cell_type": "markdown",
      "metadata": {
        "id": "soknidg94a2y"
      },
      "source": [
        "**Para facilitar a visualização, veja como transformar isso em um dataframe**\n",
        "\n",
        "Extraído de:\n",
        "\n",
        "https://www.section.io/engineering-education/apriori-algorithm-in-python/\n",
        "\n",
        "https://splunktool.com/understanding-apyoris-output"
      ]
    },
    {
      "cell_type": "code",
      "execution_count": 73,
      "metadata": {
        "id": "UWDno2uo4aL0"
      },
      "outputs": [
        {
          "data": {
            "text/plain": [
              "OrderedStatistic(items_base=frozenset({'Nao_Pao', 'Nao_Manteiga', 'Nao_Leite'}), items_add=frozenset({'Nao_Cafe'}), confidence=1.0, lift=1.375)"
            ]
          },
          "execution_count": 73,
          "metadata": {},
          "output_type": "execute_result"
        }
      ],
      "source": [
        "Antecedente = []\n",
        "Consequente = []\n",
        "suporte_regras = []\n",
        "confianca = []\n",
        "lift = []\n",
        "\n",
        "for resultado in saida:\n",
        "    for result_rule in resultado.ordered_statistics:\n",
        "        antecedente_items = list(result_rule.items_base)\n",
        "        consequente_items = list(result_rule.items_add)\n",
        "        antecedente_tem_nao = any(item.startswith('Nao_') for item in antecedente_items)\n",
        "        consequente_nao_tem_nao = all(not item.startswith('Nao_') for item in consequente_items)\n",
        "        if antecedente_tem_nao and consequente_nao_tem_nao and antecedente_items and consequente_items:\n",
        "            Antecedente.append(antecedente_items)\n",
        "            Consequente.append(consequente_items)\n",
        "            suporte_regras.append(resultado.support)\n",
        "            confianca.append(result_rule.confidence)\n",
        "            lift.append(result_rule.lift)\n",
        "\n",
        "result_rule"
      ]
    },
    {
      "cell_type": "code",
      "execution_count": 74,
      "metadata": {
        "colab": {
          "base_uri": "https://localhost:8080/",
          "height": 174
        },
        "id": "QW7wcZbe431-",
        "outputId": "fac9d89c-bc03-4f0b-c917-305b13319ada"
      },
      "outputs": [],
      "source": [
        "\n",
        "RegrasFinais = pd.DataFrame({\n",
        "    'Quem nao leva': Antecedente,\n",
        "    'Leva': Consequente,\n",
        "    'lift': lift\n",
        "})\n",
        "RegrasFinais_sorted = RegrasFinais.sort_values(by='lift', ascending=False)"
      ]
    },
    {
      "cell_type": "markdown",
      "metadata": {
        "id": "DJUXykHjhbJ0"
      },
      "source": [
        "**Podemos ordenar estas regras por uma métrica desejada**"
      ]
    },
    {
      "cell_type": "code",
      "execution_count": 75,
      "metadata": {
        "colab": {
          "base_uri": "https://localhost:8080/",
          "height": 174
        },
        "id": "A7X_YwVHhaxf",
        "outputId": "adb0c396-edfc-4d96-a9c7-5329b3bcb787"
      },
      "outputs": [
        {
          "name": "stdout",
          "output_type": "stream",
          "text": [
            "Quem nao leva Arroz e Feijao leva Manteiga\n",
            "Quem nao leva Arroz e Feijao leva Pao\n"
          ]
        }
      ],
      "source": [
        "for index, row in RegrasFinais_sorted.iterrows():\n",
        "        quem_nao_leva_lista = [item.replace('Nao_', '') for item in row['Quem nao leva']]\n",
        "        quem_nao_leva_str = ' e '.join(quem_nao_leva_lista)\n",
        "\n",
        "        leva_lista = row['Leva']\n",
        "        leva_str = ' e '.join(leva_lista)\n",
        "\n",
        "        print(f\"Quem nao leva {quem_nao_leva_str} leva {leva_str}\")"
      ]
    }
  ],
  "metadata": {
    "colab": {
      "provenance": []
    },
    "kernelspec": {
      "display_name": "Python 3",
      "name": "python3"
    },
    "language_info": {
      "codemirror_mode": {
        "name": "ipython",
        "version": 3
      },
      "file_extension": ".py",
      "mimetype": "text/x-python",
      "name": "python",
      "nbconvert_exporter": "python",
      "pygments_lexer": "ipython3",
      "version": "3.13.7"
    }
  },
  "nbformat": 4,
  "nbformat_minor": 0
}
